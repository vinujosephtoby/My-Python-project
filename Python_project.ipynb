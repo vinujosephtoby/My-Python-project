{
  "cells": [
    {
      "cell_type": "markdown",
      "metadata": {
        "id": "view-in-github",
        "colab_type": "text"
      },
      "source": [
        "<a href=\"https://colab.research.google.com/github/vinujosephtoby/My-Python-project/blob/main/Python_project.ipynb\" target=\"_parent\"><img src=\"https://colab.research.google.com/assets/colab-badge.svg\" alt=\"Open In Colab\"/></a>"
      ]
    },
    {
      "cell_type": "code",
      "source": [],
      "metadata": {
        "id": "x4UnghbKRoVI"
      },
      "execution_count": null,
      "outputs": []
    },
    {
      "cell_type": "markdown",
      "source": [
        "1. A financial analyst stores monthly revenues in a list: [120000, 135000, 128000,\n",
        "142000, 150000]. Find the difference between the highest and lowest revenue without\n",
        "using loops."
      ],
      "metadata": {
        "id": "VkfAbRPWSUOJ"
      }
    },
    {
      "cell_type": "code",
      "source": [
        " rev= [120000, 135000, 128000, 142000, 150000]\n",
        " diff=max(rev)-min(rev)\n",
        " print(diff)"
      ],
      "metadata": {
        "colab": {
          "base_uri": "https://localhost:8080/"
        },
        "id": "WHadbYucSc5X",
        "outputId": "8c907a84-6f5a-4411-c385-f42bafca04a1"
      },
      "execution_count": null,
      "outputs": [
        {
          "output_type": "stream",
          "name": "stdout",
          "text": [
            "30000\n"
          ]
        }
      ]
    },
    {
      "cell_type": "markdown",
      "source": [
        "2. Given the tuple account = ('Asha', 'Savings', 56000, 'KCH'), unpack the values into\n",
        "separate variables and print a formatted string: 'Asha has ₹56000 in her Savings\n",
        "account (Branch: KCH)'."
      ],
      "metadata": {
        "id": "Tyr7Yg0ZTBDC"
      }
    },
    {
      "cell_type": "code",
      "source": [
        "account = ('Asha', 'Savings', 56000, 'KCH')\n",
        "name,typeacc,bal,branch=account\n",
        "print(f\"{name} has ₹{bal} in her {typeacc}account(Branch:{branch})\")"
      ],
      "metadata": {
        "colab": {
          "base_uri": "https://localhost:8080/"
        },
        "id": "Onb4POS5TKSu",
        "outputId": "69bb2467-d4ac-4449-e16c-67402b25825a"
      },
      "execution_count": null,
      "outputs": [
        {
          "output_type": "stream",
          "name": "stdout",
          "text": [
            "Asha has ₹56000 in her Savingsaccount(Branch:KCH)\n"
          ]
        }
      ]
    },
    {
      "cell_type": "markdown",
      "source": [],
      "metadata": {
        "id": "pnV20pKAUpvM"
      }
    },
    {
      "cell_type": "markdown",
      "source": [
        "3. Convert the list of string numbers ['45000', '56000', '38000'] to integers and find\n",
        "their average balance."
      ],
      "metadata": {
        "id": "KR9MmLNTU2i6"
      }
    },
    {
      "cell_type": "code",
      "source": [
        " string_numbers = ['45000', '56000', '38000']\n",
        " num=list(map(int,string_numbers))\n",
        " avg=sum(num)/len(num)\n",
        " print(f\"their average balance {avg}\")\n",
        "\n",
        "\n"
      ],
      "metadata": {
        "colab": {
          "base_uri": "https://localhost:8080/"
        },
        "id": "O4ITPagPU75K",
        "outputId": "2f6127e3-5a6a-465a-e1d9-363496edf37e"
      },
      "execution_count": null,
      "outputs": [
        {
          "output_type": "stream",
          "name": "stdout",
          "text": [
            "their average balance 46333.333333333336\n"
          ]
        }
      ]
    },
    {
      "cell_type": "markdown",
      "source": [
        "4. Create a list with elements: ['Kochi', 'Chennai', 'Mumbai', 'Delhi', 'Pune']. Replace\n",
        "'Delhi' with 'Hyderabad' and print the new list in reverse order using slicing."
      ],
      "metadata": {
        "id": "aS7Y7ThtWtFB"
      }
    },
    {
      "cell_type": "code",
      "source": [
        "elements= ['Kochi', 'Chennai', 'Mumbai', 'Delhi', 'Pune']\n",
        "elements[3]= 'Hyderabad'\n",
        "print(elements[::-1])"
      ],
      "metadata": {
        "colab": {
          "base_uri": "https://localhost:8080/"
        },
        "id": "mizf_eFJW8yo",
        "outputId": "26728b88-ec80-4ded-f78a-de1000c12da6"
      },
      "execution_count": null,
      "outputs": [
        {
          "output_type": "stream",
          "name": "stdout",
          "text": [
            "['Pune', 'Hyderabad', 'Mumbai', 'Chennai', 'Kochi']\n"
          ]
        }
      ]
    },
    {
      "cell_type": "markdown",
      "source": [
        "5. You have two tuples: interest_2024 = (7.1, 7.3, 7.2) and interest_2025 = (7.4, 7.5).\n",
        "Combine them and print the average of all interest rates."
      ],
      "metadata": {
        "id": "96s5XDdAYfVQ"
      }
    },
    {
      "cell_type": "code",
      "source": [
        "interest_2024 = (7.1, 7.3, 7.2)\n",
        "interest_2025 = (7.4, 7.5)\n",
        "all=interest_2024+interest_2025\n",
        "avg=sum(all)/len(all)\n",
        "print(f\"the average of {avg}\")"
      ],
      "metadata": {
        "colab": {
          "base_uri": "https://localhost:8080/"
        },
        "id": "thDAK8V2YhCl",
        "outputId": "8cfa8cd9-7f3d-4bf0-9537-f7e3475818d4"
      },
      "execution_count": null,
      "outputs": [
        {
          "output_type": "stream",
          "name": "stdout",
          "text": [
            "the average of 7.3\n"
          ]
        }
      ]
    },
    {
      "cell_type": "markdown",
      "source": [
        "6. A string variable branch_id = 'TVM-FIN-2025'. Extract the branch code (first three\n",
        "letters) and the year (last four digits)."
      ],
      "metadata": {
        "id": "VMBwcuYiZkEK"
      }
    },
    {
      "cell_type": "code",
      "source": [
        "branch_id = 'TVM-FIN-2025'\n",
        "id=branch_id[:3]\n",
        "yr=branch_id[-4:]\n",
        "print (f\" the branch code {id} and the year {yr}\")"
      ],
      "metadata": {
        "colab": {
          "base_uri": "https://localhost:8080/"
        },
        "id": "cYRIitn0Zvsv",
        "outputId": "b5db605e-77f6-4251-8c9f-ae3cb51d6614"
      },
      "execution_count": null,
      "outputs": [
        {
          "output_type": "stream",
          "name": "stdout",
          "text": [
            " the branch code TVM and the year 2025\n"
          ]
        }
      ]
    },
    {
      "cell_type": "markdown",
      "source": [
        "7. Create a list transactions = [10000, -2000, 5000, -1500, 3000]. Without using loops,\n",
        "find total deposits and withdrawals using list slicing or indexing only"
      ],
      "metadata": {
        "id": "2UOFtq4jbX4R"
      }
    },
    {
      "cell_type": "code",
      "source": [
        "transactions = [10000, -2000, 5000, -1500, 3000]\n",
        "dep=sum([transactions[0],transactions[2],transactions[4]])\n",
        "wid=sum([transactions[1],transactions[3]])\n",
        "print (f\"deposits {dep} withdrawals {wid}\")"
      ],
      "metadata": {
        "colab": {
          "base_uri": "https://localhost:8080/"
        },
        "id": "p5ovuRlTb6ja",
        "outputId": "8a16c72b-c297-465d-ad56-3c57fddc7983"
      },
      "execution_count": null,
      "outputs": [
        {
          "output_type": "stream",
          "name": "stdout",
          "text": [
            "deposits 18000 withdrawals -3500\n"
          ]
        }
      ]
    },
    {
      "cell_type": "markdown",
      "source": [
        "8. Given name = 'John Doe' and balance = 72500, print a message in title case stating\n",
        "'John Doe has a balance of ₹72500'. Ensure no type errors occur."
      ],
      "metadata": {
        "id": "tJCoXbkGpjJ6"
      }
    },
    {
      "cell_type": "code",
      "source": [
        "name = 'John Doe'\n",
        "bal = 72500\n",
        "print (f\"{name} has a balance of ₹{bal}\")\n"
      ],
      "metadata": {
        "colab": {
          "base_uri": "https://localhost:8080/"
        },
        "id": "NoS2XP14qJyb",
        "outputId": "2387713e-57f2-4f69-c7a5-301b68a6bbe7"
      },
      "execution_count": null,
      "outputs": [
        {
          "output_type": "stream",
          "name": "stdout",
          "text": [
            "John Doe has a balance of ₹72500\n"
          ]
        }
      ]
    },
    {
      "cell_type": "markdown",
      "source": [
        "9. A tuple customer = ('Kiran', 'Loan', 80000, 7.5). Calculate and print the total amount\n",
        "payable after 1 year if interest is simple interest based on rate 7.5%"
      ],
      "metadata": {
        "id": "3jnP2_E_s7jF"
      }
    },
    {
      "cell_type": "code",
      "source": [
        "customer = ('Kiran', 'Loan', 80000, 7.5)\n",
        "sim=customer[2]*(1+customer[3]/100)\n",
        "print(f\" total amount payable {sim}\")\n"
      ],
      "metadata": {
        "colab": {
          "base_uri": "https://localhost:8080/"
        },
        "id": "ABJfUa-ds86P",
        "outputId": "3f5223a7-6c9c-49f4-b1fa-e500caf0a633"
      },
      "execution_count": null,
      "outputs": [
        {
          "output_type": "stream",
          "name": "stdout",
          "text": [
            " total amount payable 86000.0\n"
          ]
        }
      ]
    },
    {
      "cell_type": "markdown",
      "source": [
        "10. Create two lists – branches = ['Kochi', 'Chennai', 'Mumbai'] and profits = [120000,\n",
        "95000, 134000]. Form a new list of tuples pairing each branch with its profit."
      ],
      "metadata": {
        "id": "N9gOPKEOva5c"
      }
    },
    {
      "cell_type": "code",
      "source": [
        "branches = ['Kochi', 'Chennai', 'Mumbai']\n",
        "Profit = [120000, 95000, 134000]\n",
        "li= [(branches[0],Profit[0]),(branches[1],Profit[1]),(branches[2],Profit[2])]\n",
        "print(f\"{li}\")"
      ],
      "metadata": {
        "colab": {
          "base_uri": "https://localhost:8080/"
        },
        "id": "EvtS5Knivcb4",
        "outputId": "022bbace-3a0d-4065-8ece-5eca16202991"
      },
      "execution_count": null,
      "outputs": [
        {
          "output_type": "stream",
          "name": "stdout",
          "text": [
            "[('Kochi', 120000), ('Chennai', 95000), ('Mumbai', 134000)]\n"
          ]
        }
      ]
    },
    {
      "cell_type": "markdown",
      "source": [
        "11. From a list salaries = [45000, 56000, 38000, 62000, 54000], extract the top three\n",
        "salaries using slicing only"
      ],
      "metadata": {
        "id": "0kFQc4YjyFNp"
      }
    },
    {
      "cell_type": "code",
      "source": [
        "sal =[45000, 56000, 38000, 62000, 54000]\n",
        "sal.sort()\n",
        "sal.reverse()\n",
        "sal[0:3]"
      ],
      "metadata": {
        "id": "Cmr7GLeR3jfh",
        "outputId": "0740588d-3f4b-482c-b086-cc6635e26fad",
        "colab": {
          "base_uri": "https://localhost:8080/"
        }
      },
      "execution_count": null,
      "outputs": [
        {
          "output_type": "execute_result",
          "data": {
            "text/plain": [
              "[62000, 56000, 54000]"
            ]
          },
          "metadata": {},
          "execution_count": 45
        }
      ]
    },
    {
      "cell_type": "markdown",
      "source": [
        "12. Given the tuple exchange_rates = (83.2, 83.1, 83.5, 83.0, 82.9), convert it into a list\n",
        "and change the third value to 84.0."
      ],
      "metadata": {
        "id": "r8Keb8_H4_lX"
      }
    },
    {
      "cell_type": "code",
      "source": [
        "exchange_rates = [83.2, 83.1, 83.5, 83.0, 82.9]\n",
        "exchange_rates[2]= '84.0'\n",
        "print(exchange_rates[::])\n"
      ],
      "metadata": {
        "id": "q3gJW-kz5BWt",
        "outputId": "361f6bc4-be46-48c1-d426-e5207750774c",
        "colab": {
          "base_uri": "https://localhost:8080/"
        }
      },
      "execution_count": null,
      "outputs": [
        {
          "output_type": "stream",
          "name": "stdout",
          "text": [
            "[83.2, 83.1, '84.0', 83.0, 82.9]\n"
          ]
        }
      ]
    },
    {
      "cell_type": "markdown",
      "source": [
        "13. Combine two lists customer_names = ['Asha', 'John', 'Meera'] and balances = [56000,\n",
        "72000, 65000] into a formatted string such as 'Asha:56000, John:72000, Meera:65000'\n",
        "without loops."
      ],
      "metadata": {
        "id": "I4UHlx3CC1PB"
      }
    },
    {
      "cell_type": "code",
      "source": [
        "cus_name =['Asha', 'John', 'Meera']\n",
        "Bal= [56000, 72000, 65000]\n",
        "li=[(cus_name[0],Bal[0]),(cus_name[1],Bal[1]), (cus_name[2],Bal[2])]\n",
        "print(f\"{li}\")"
      ],
      "metadata": {
        "id": "zvoMKJFoC3D7",
        "outputId": "53402b61-9eec-4bdb-f5b5-d925c9877423",
        "colab": {
          "base_uri": "https://localhost:8080/"
        }
      },
      "execution_count": null,
      "outputs": [
        {
          "output_type": "stream",
          "name": "stdout",
          "text": [
            "[('Asha', 56000), ('John', 72000), ('Meera', 65000)]\n"
          ]
        }
      ]
    },
    {
      "cell_type": "markdown",
      "source": [],
      "metadata": {
        "id": "ysntGTHKCzZO"
      }
    }
  ],
  "metadata": {
    "colab": {
      "provenance": [],
      "include_colab_link": true
    },
    "kernelspec": {
      "display_name": "Python 3",
      "name": "python3"
    }
  },
  "nbformat": 4,
  "nbformat_minor": 0
}